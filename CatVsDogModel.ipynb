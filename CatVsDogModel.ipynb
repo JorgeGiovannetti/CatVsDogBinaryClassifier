{
 "cells": [
  {
   "cell_type": "markdown",
   "metadata": {},
   "source": [
    "# CatVsDog Hyper-parameter Experimentation\n",
    "Developed by:\n",
    "* Astrid Thalía Arteaga Romero A01420220\n",
    "* Jorge Alexander Giovannetti Pulido A01283034"
   ]
  },
  {
   "cell_type": "markdown",
   "metadata": {},
   "source": [
    "## 1 -  Packages\n",
    "Let's first import all the packages that you will need during this assignment. \n",
    "- [numpy](www.numpy.org) is the fundamental package for scientific computing with Python.\n",
    "- load_dataset loads our dataset images into conveniently formatted numpy arrays.\n",
    "- utils provides the functions implemented in the \"Building your Deep Neural Network: Step by Step\" assignment with a couple tweaks for our experiments.\n",
    "- np.random.seed(1) is used to keep all the random function calls consistent."
   ]
  },
  {
   "cell_type": "code",
   "execution_count": 1,
   "metadata": {},
   "outputs": [],
   "source": [
    "import numpy as np\n",
    "from load_dataset import load_data\n",
    "from utils import *\n",
    "\n",
    "np.random.seed(1)"
   ]
  },
  {
   "cell_type": "markdown",
   "metadata": {},
   "source": [
    "## 2 - Architecture of our model (L-layer Neural Network)"
   ]
  },
  {
   "cell_type": "code",
   "execution_count": 2,
   "metadata": {},
   "outputs": [],
   "source": [
    "def L_layer_model(X, Y, layers_dims = [12288, 20, 7, 5, 1], learning_rate = 0.0075, num_iterations = 3000, activation_functions = [\"relu\", \"relu\", \"relu\", \"sigmoid\"], print_cost=False):\n",
    "    \"\"\"\n",
    "    Implements a L-layer neural network: [LINEAR->RELU]*(L-1)->LINEAR->SIGMOID.\n",
    "    \n",
    "    Arguments:\n",
    "    X -- data, numpy array of shape (number of examples, num_px * num_px * 3)\n",
    "    Y -- true \"label\" vector (containing 0 if cat, 1 if non-cat), of shape (1, number of examples)\n",
    "    layers_dims -- list containing the input size and each layer size, of length (number of layers + 1).\n",
    "    activation_functions -- list containing the activation function for each layer.\n",
    "    learning_rate -- learning rate of the gradient descent update rule\n",
    "    num_iterations -- number of iterations of the optimization loop\n",
    "    print_cost -- if True, it prints the cost every 100 steps\n",
    "    \n",
    "    Returns:\n",
    "    parameters -- parameters learnt by the model. They can then be used to predict.\n",
    "    \"\"\"\n",
    "    \n",
    "    assert len(layers_dims) == len(activation_functions) + 1\n",
    "\n",
    "    np.random.seed(1)\n",
    "    costs = [] # keep track of cost\n",
    "    \n",
    "    # Parameters initialization.\n",
    "    parameters = initialize_parameters_deep(layers_dims)\n",
    "    \n",
    "    # Loop (gradient descent)\n",
    "    for i in range(0, num_iterations):\n",
    "        \n",
    "        # Forward propagation:\n",
    "        AL, caches = L_model_forward(X, parameters, activation_functions)\n",
    "        \n",
    "        # Compute cost.\n",
    "        cost = compute_cost(AL, Y)\n",
    "    \n",
    "        # Backward propagation.\n",
    "        grads = L_model_backward(AL, Y, caches, activation_functions)\n",
    " \n",
    "        # Update parameters.\n",
    "        parameters = update_parameters(parameters, grads, learning_rate)\n",
    "                \n",
    "        # Print the cost every 100 training example\n",
    "        if print_cost and i % 100 == 0:\n",
    "            print (\"Cost after iteration %i: %f\" %(i, cost))\n",
    "        if print_cost and i % 100 == 0:\n",
    "            costs.append(cost)\n",
    "            \n",
    "    # plot the cost\n",
    "    plt.plot(np.squeeze(costs))\n",
    "    plt.ylabel('cost')\n",
    "    plt.xlabel('iterations (per tens)')\n",
    "    plt.title(\"Learning rate =\" + str(learning_rate))\n",
    "    plt.show()\n",
    "    \n",
    "    return parameters"
   ]
  },
  {
   "cell_type": "markdown",
   "metadata": {},
   "source": [
    "## 3 - Checking our model\n",
    "As a way of checking if our model is correct, we implement grad-checking to verify that our backward propagation works correctly in conjunction with our forward propagation."
   ]
  },
  {
   "cell_type": "code",
   "execution_count": null,
   "metadata": {},
   "outputs": [],
   "source": [
    "def forward_prop_cost(X, parameters, Y, activation_functions):\n",
    "    \"\"\"\n",
    "    Implements the forward propagation and computes the cost.\n",
    "    \n",
    "    Arguments\n",
    "    ---------\n",
    "    X : 2d-array\n",
    "        input data, shape: number of features x number of examples.\n",
    "    parameters : dict\n",
    "        parameters to use in forward prop.\n",
    "    Y : array\n",
    "        true \"label\", shape: 1 x number of examples.\n",
    "    hidden_layers_activation_fn : str\n",
    "        activation function to be used on hidden layers: \"tanh\", \"relu\".\n",
    "\n",
    "    Returns\n",
    "    -------\n",
    "    cost : float\n",
    "        cross-entropy cost.\n",
    "    \"\"\"\n",
    "    # Compute forward prop\n",
    "    AL, _ = L_model_forward(X, parameters, activation_functions)\n",
    "\n",
    "    # Compute cost\n",
    "    cost = compute_cost(AL, Y)\n",
    "\n",
    "    return cost\n",
    "\n",
    "def gradient_check(parameters, gradients, X, Y, activation_functions, epsilon = 1e-7):\n",
    "    \"\"\"\n",
    "    Checks if backward_propagation_n computes correctly the gradient of the cost output by forward_propagation_n\n",
    "    \n",
    "    Arguments:\n",
    "    parameters -- python dictionary containing the generated parameters\n",
    "    grad -- output of backward_propagation_n, contains gradients of the cost with respect to the parameters. \n",
    "    X -- input datapoint, of shape (input size, 1)\n",
    "    Y -- true \"label\"\n",
    "    activation_functions -- list containing the activation function for each layer.\n",
    "    epsilon -- tiny shift to the input to compute approximated gradient with formula(1)\n",
    "    \n",
    "    Returns:\n",
    "    difference -- difference (2) between the approximated gradient and the backward propagation gradient\n",
    "    \"\"\"\n",
    "    \n",
    "    # Roll out parameters and gradients dictionaries\n",
    "    parameters_values = dictionary_to_vector(parameters)\n",
    "    grad = gradients_to_vector(gradients)\n",
    "\n",
    "    # Create vector of zeros to be used with epsilon\n",
    "    num_parameters = parameters_values.shape[0]\n",
    "    J_plus = np.zeros((num_parameters, 1))\n",
    "    J_minus = np.zeros((num_parameters, 1))\n",
    "    gradapprox = np.zeros((num_parameters, 1))\n",
    "\n",
    "    for i in range(len(parameters_values)):\n",
    "        # Compute cost of theta + epsilon\n",
    "        theta_plus = np.copy(parameters_values)\n",
    "        theta_plus[i] = theta_plus[i] + epsilon\n",
    "        j_plus = forward_prop_cost(X, vector_to_dictionary(theta_plus, layers_dims), Y, activation_functions)\n",
    "\n",
    "        # Compute cost of theta - epsilon\n",
    "        theta_minus = np.copy(parameters_values)\n",
    "        theta_minus[i] = theta_minus[i] - epsilon\n",
    "        j_minus = forward_prop_cost(X, vector_to_dictionary(theta_minus, layers_dims), Y, activation_functions)\n",
    "\n",
    "        # Compute numerical gradients\n",
    "        gradapprox[i] = (j_plus - j_minus) / (2 * epsilon)\n",
    "\n",
    "    # Compute the difference of numerical and analytical gradients\n",
    "    numerator = np.linalg.norm(grad - gradapprox)\n",
    "    denominator = np.linalg.norm(gradapprox) + np.linalg.norm(grad)\n",
    "    difference = numerator / denominator\n",
    "\n",
    "    if difference > 10e-7:\n",
    "        print (\"There is a mistake in back-propagation implementation. The difference is: {}\".format(difference))\n",
    "    else:\n",
    "        print (\"The implementation of back-propagation is fine!. The difference is: {}\".format(difference))\n",
    "\n",
    "    return difference"
   ]
  },
  {
   "cell_type": "code",
   "execution_count": null,
   "metadata": {},
   "outputs": [],
   "source": [
    "layers_dims = [12288, 20, 7, 5, 1]\n",
    "activation_functions = [\"relu\", \"relu\", \"relu\", \"sigmoid\"]\n",
    "parameters = initialize_parameters_deep(layers_dims)\n",
    "\n",
    "X = np.random.randint(255, size=(12288, 5))/255.\n",
    "Y = np.random.randint(0, 2, size=(1, 5))\n",
    "\n",
    "AL, caches = L_model_forward(X, parameters, activation_functions)\n",
    "cost = compute_cost(AL, Y)\n",
    "\n",
    "grads = L_model_backward(AL, Y, caches, activation_functions)\n",
    "difference = gradient_check(parameters, grads, X, Y, activation_functions)"
   ]
  },
  {
   "cell_type": "markdown",
   "metadata": {},
   "source": [
    "## 4 - Dataset\n",
    "The dataset we selected comes from Kaggle it is called \"Dogs & Cats Images\", there are 5000 pictures of cats and 5000 pictres of dogs.\n",
    "A 1000 cat and dog images are set for dev, another 1000 cat and dog images are set for testing and 3000 cat and dog images are set for training.\n",
    "\n",
    "LINK:https://www.kaggle.com/chetankv/dogs-cats-images\n",
    "\n",
    "We'll use our dev_set for experimenting and when we reach our objective we'll train the model with the train set and, finally, test our results with the test set."
   ]
  },
  {
   "cell_type": "code",
   "execution_count": null,
   "metadata": {},
   "outputs": [],
   "source": [
    "dev_x_orig, dev_y, classes = load_data('dev_set')\n",
    "train_x_orig, train_y, classes = load_data('training_set')\n",
    "test_x_orig, test_y, classes = load_data('test_set')"
   ]
  },
  {
   "cell_type": "code",
   "execution_count": null,
   "metadata": {},
   "outputs": [],
   "source": [
    "# Exploring our dataset \n",
    "m_train = train_x_orig.shape[0]\n",
    "num_px = train_x_orig.shape[1]\n",
    "\n",
    "print (\"Number of train examples: \" + str(m_train))\n",
    "print (\"Each image is of size: (\" + str(num_px) + \", \" + str(num_px) + \", 3)\")\n",
    "print (\"train_x_orig shape: \" + str(train_x_orig.shape))\n",
    "print (\"train_y shape: \" + str(train_y.shape))"
   ]
  },
  {
   "cell_type": "code",
   "execution_count": null,
   "metadata": {},
   "outputs": [],
   "source": [
    "# Reshape the training and test examples \n",
    "dev_x_flatten = dev_x_orig.reshape(dev_x_orig.shape[0], -1).T   # The \"-1\" makes reshape flatten the remaining dimensions\n",
    "train_x_flatten = train_x_orig.reshape(train_x_orig.shape[0], -1).T\n",
    "test_x_flatten = test_x_orig.reshape(test_x_orig.shape[0], -1).T\n",
    "\n",
    "# Standardize data to have feature values between 0 and 1.\n",
    "dev_x = dev_x_flatten/255.\n",
    "train_x = train_x_flatten/255.\n",
    "test_x = test_x_flatten/255.\n",
    "\n",
    "print (\"dev_x's shape: \" + str(dev_x.shape))\n",
    "print (\"train_x's shape: \" + str(train_x.shape))\n",
    "print (\"test_x's shape: \" + str(test_x.shape))\n"
   ]
  },
  {
   "cell_type": "markdown",
   "metadata": {},
   "source": [
    "$12,288$ equals $64 \\times 64 \\times 3$ which is the size of one reshaped image vector."
   ]
  },
  {
   "cell_type": "markdown",
   "metadata": {},
   "source": [
    "## 5 - Hyper-parameters\n",
    "\n",
    "We decided to experiment with the following hyper-parameters:\n",
    "- Learning rate\n",
    "- Number of iterations\n",
    "- Number of layers\n",
    "- Number of neurons in each layer\n",
    "- The activation function in each layer"
   ]
  },
  {
   "cell_type": "code",
   "execution_count": null,
   "metadata": {},
   "outputs": [],
   "source": [
    "### CONSTANTS ###\n",
    "layers_dims = [train_x.shape[0], 20, 7, 5, 1] #  4-layer model"
   ]
  },
  {
   "cell_type": "markdown",
   "metadata": {},
   "source": [
    "## Experiments"
   ]
  },
  {
   "cell_type": "markdown",
   "metadata": {},
   "source": [
    "### Experiment #1: Default hyper-parameters\n",
    "As a way of getting a baseline result for our experimentation process, we decided to use the same hyper-parameters we used in class for our first experiment."
   ]
  },
  {
   "cell_type": "markdown",
   "metadata": {},
   "source": [
    "#### Load Data"
   ]
  },
  {
   "cell_type": "code",
   "execution_count": 3,
   "metadata": {},
   "outputs": [
    {
     "name": "stderr",
     "output_type": "stream",
     "text": [
      "100%|█████████████████████████████████████████████████████████████████████████████| 1000/1000 [00:01<00:00, 609.40it/s]\n",
      "100%|█████████████████████████████████████████████████████████████████████████████| 1000/1000 [00:01<00:00, 594.46it/s]\n"
     ]
    },
    {
     "name": "stdout",
     "output_type": "stream",
     "text": [
      "dev_x's shape: (12288, 2000)\n"
     ]
    }
   ],
   "source": [
    "dev_x_orig, dev_y, classes = load_data('dev_set')\n",
    "dev_x_flatten = dev_x_orig.reshape(dev_x_orig.shape[0], -1).T\n",
    "dev_x = dev_x_flatten/255.\n",
    "print (\"dev_x's shape: \" + str(dev_x.shape))"
   ]
  },
  {
   "cell_type": "code",
   "execution_count": 4,
   "metadata": {
    "scrolled": false
   },
   "outputs": [
    {
     "name": "stdout",
     "output_type": "stream",
     "text": [
      "Cost after iteration 0: 0.716532\n",
      "Cost after iteration 100: 0.682177\n",
      "Cost after iteration 200: 0.671719\n",
      "Cost after iteration 300: 0.662194\n",
      "Cost after iteration 400: 0.658220\n",
      "Cost after iteration 500: 0.647870\n",
      "Cost after iteration 600: 0.640941\n",
      "Cost after iteration 700: 0.629188\n",
      "Cost after iteration 800: 0.621444\n",
      "Cost after iteration 900: 0.618124\n",
      "Cost after iteration 1000: 0.611606\n",
      "Cost after iteration 1100: 0.600344\n",
      "Cost after iteration 1200: 0.589976\n",
      "Cost after iteration 1300: 0.590035\n",
      "Cost after iteration 1400: 0.578149\n",
      "Cost after iteration 1500: 0.564841\n",
      "Cost after iteration 1600: 0.568735\n",
      "Cost after iteration 1700: 0.549138\n",
      "Cost after iteration 1800: 0.535074\n",
      "Cost after iteration 1900: 0.536846\n",
      "Cost after iteration 2000: 0.535037\n",
      "Cost after iteration 2100: 0.491337\n",
      "Cost after iteration 2200: 0.490477\n",
      "Cost after iteration 2300: 0.488503\n",
      "Cost after iteration 2400: 0.464851\n"
     ]
    },
    {
     "data": {
      "image/png": "[encoded data removed]",
      "text/plain": [
       "<Figure size 432x288 with 1 Axes>"
      ]
     },
     "metadata": {
      "needs_background": "light"
     },
     "output_type": "display_data"
    }
   ],
   "source": [
    "learning_rate = 0.0075\n",
    "num_iterations = 2500\n",
    "layers_dims = [dev_x.shape[0], 20, 7, 5, 1]\n",
    "activation_functions = [\"relu\", \"relu\", \"relu\", \"sigmoid\"]\n",
    "\n",
    "parameters = L_layer_model(dev_x, dev_y, layers_dims, learning_rate, num_iterations, activation_functions, print_cost = True)"
   ]
  },
  {
   "cell_type": "code",
   "execution_count": 5,
   "metadata": {},
   "outputs": [
    {
     "name": "stdout",
     "output_type": "stream",
     "text": [
      "Accuracy: 0.8210000000000003\n"
     ]
    }
   ],
   "source": [
    "pred_dev = predict(dev_x, dev_y, parameters, activation_functions)"
   ]
  },
  {
   "cell_type": "markdown",
   "metadata": {},
   "source": [
    "### Experiment #2: Increase learning rate\n",
    "When running experiment #1 we noticed the cost was decreasing and didn't get to stabilize (it kept reducing its rate of change considerably) before ending the model’s training. Due to this, we figured we might get better results if we let the model learn at a faster rate.\n",
    "\n",
    "We raised our previous learning_rate up to 0.01, let's see what results we get."
   ]
  },
  {
   "cell_type": "markdown",
   "metadata": {},
   "source": [
    "#### Load Data"
   ]
  },
  {
   "cell_type": "code",
   "execution_count": 6,
   "metadata": {},
   "outputs": [
    {
     "name": "stderr",
     "output_type": "stream",
     "text": [
      "100%|█████████████████████████████████████████████████████████████████████████████| 1000/1000 [00:01<00:00, 616.68it/s]\n",
      "100%|█████████████████████████████████████████████████████████████████████████████| 1000/1000 [00:01<00:00, 602.77it/s]\n"
     ]
    },
    {
     "name": "stdout",
     "output_type": "stream",
     "text": [
      "dev_x's shape: (12288, 2000)\n"
     ]
    }
   ],
   "source": [
    "dev_x_orig, dev_y, classes = load_data('dev_set')\n",
    "dev_x_flatten = dev_x_orig.reshape(dev_x_orig.shape[0], -1).T\n",
    "dev_x = dev_x_flatten/255.\n",
    "print (\"dev_x's shape: \" + str(dev_x.shape))"
   ]
  },
  {
   "cell_type": "markdown",
   "metadata": {},
   "source": [
    "#### Set Hyper-Parameters and Train"
   ]
  },
  {
   "cell_type": "code",
   "execution_count": 9,
   "metadata": {},
   "outputs": [
    {
     "name": "stdout",
     "output_type": "stream",
     "text": [
      "Cost after iteration 0: 0.716532\n",
      "Cost after iteration 100: 0.688342\n",
      "Cost after iteration 200: 0.668035\n",
      "Cost after iteration 300: 0.685658\n",
      "Cost after iteration 400: 0.637369\n",
      "Cost after iteration 500: 0.632587\n",
      "Cost after iteration 600: 0.627438\n",
      "Cost after iteration 700: 0.610587\n",
      "Cost after iteration 800: 0.618296\n",
      "Cost after iteration 900: 0.599855\n",
      "Cost after iteration 1000: 0.591685\n",
      "Cost after iteration 1100: 0.598346\n",
      "Cost after iteration 1200: 0.563747\n",
      "Cost after iteration 1300: 0.557246\n",
      "Cost after iteration 1400: 0.549351\n",
      "Cost after iteration 1500: 0.523753\n",
      "Cost after iteration 1600: 0.524471\n",
      "Cost after iteration 1700: 0.531904\n",
      "Cost after iteration 1800: 0.484860\n",
      "Cost after iteration 1900: 0.555445\n",
      "Cost after iteration 2000: 0.559675\n",
      "Cost after iteration 2100: 0.578041\n",
      "Cost after iteration 2200: 0.391203\n",
      "Cost after iteration 2300: 0.413265\n",
      "Cost after iteration 2400: 0.407902\n"
     ]
    },
    {
     "data": {
      "image/png": "[encoded data removed]",
      "text/plain": [
       "<Figure size 432x288 with 1 Axes>"
      ]
     },
     "metadata": {
      "needs_background": "light"
     },
     "output_type": "display_data"
    }
   ],
   "source": [
    "learning_rate = 0.01\n",
    "num_iterations = 2500\n",
    "layers_dims = [dev_x.shape[0], 20, 7, 5, 1]\n",
    "activation_functions = [\"relu\", \"relu\", \"relu\", \"sigmoid\"]\n",
    "\n",
    "parameters = L_layer_model(dev_x, dev_y, layers_dims, learning_rate, num_iterations, activation_functions, print_cost = True)"
   ]
  },
  {
   "cell_type": "code",
   "execution_count": 10,
   "metadata": {},
   "outputs": [
    {
     "name": "stdout",
     "output_type": "stream",
     "text": [
      "Accuracy: 0.7785000000000002\n"
     ]
    }
   ],
   "source": [
    "pred_dev = predict(dev_x, dev_y, parameters, activation_functions)"
   ]
  },
  {
   "cell_type": "markdown",
   "metadata": {},
   "source": [
    "### Experiment #3: Increase iterations"
   ]
  },
  {
   "cell_type": "markdown",
   "metadata": {},
   "source": [
    "From the results we obtained from experiment #2, we noticed the cost managed to decrease further than on experiment #1 as we expected. Nonetheless, we obtained a lower accuracy than on the first experiment. We believe that may be due to having a high learning rate that causes the change in cost to be more drastic and less stable than we'd hope. \n",
    "\n",
    "Due to this, we will go back to our original learning rate, but increase the amount of iterations to see whether that original learning rate can lead us to better results, given a bit more training.\n",
    "\n",
    "For this experiment, we raised the number of iterations from 2500 to 3000."
   ]
  },
  {
   "cell_type": "markdown",
   "metadata": {},
   "source": [
    "#### Load Data"
   ]
  },
  {
   "cell_type": "code",
   "execution_count": 11,
   "metadata": {},
   "outputs": [
    {
     "name": "stderr",
     "output_type": "stream",
     "text": [
      "100%|█████████████████████████████████████████████████████████████████████████████| 1000/1000 [00:01<00:00, 569.41it/s]\n",
      "100%|█████████████████████████████████████████████████████████████████████████████| 1000/1000 [00:01<00:00, 547.21it/s]\n"
     ]
    },
    {
     "name": "stdout",
     "output_type": "stream",
     "text": [
      "dev_x's shape: (12288, 2000)\n"
     ]
    }
   ],
   "source": [
    "dev_x_orig, dev_y, classes = load_data('dev_set')\n",
    "dev_x_flatten = dev_x_orig.reshape(dev_x_orig.shape[0], -1).T\n",
    "dev_x = dev_x_flatten/255.\n",
    "print (\"dev_x's shape: \" + str(dev_x.shape))"
   ]
  },
  {
   "cell_type": "code",
   "execution_count": 12,
   "metadata": {},
   "outputs": [
    {
     "name": "stdout",
     "output_type": "stream",
     "text": [
      "Cost after iteration 0: 0.716532\n",
      "Cost after iteration 100: 0.682177\n",
      "Cost after iteration 200: 0.671719\n",
      "Cost after iteration 300: 0.662194\n",
      "Cost after iteration 400: 0.658220\n",
      "Cost after iteration 500: 0.647870\n",
      "Cost after iteration 600: 0.640941\n",
      "Cost after iteration 700: 0.629188\n",
      "Cost after iteration 800: 0.621444\n",
      "Cost after iteration 900: 0.618124\n",
      "Cost after iteration 1000: 0.611606\n",
      "Cost after iteration 1100: 0.600344\n",
      "Cost after iteration 1200: 0.589976\n",
      "Cost after iteration 1300: 0.590035\n",
      "Cost after iteration 1400: 0.578149\n",
      "Cost after iteration 1500: 0.564841\n",
      "Cost after iteration 1600: 0.568735\n",
      "Cost after iteration 1700: 0.549138\n",
      "Cost after iteration 1800: 0.535074\n",
      "Cost after iteration 1900: 0.536846\n",
      "Cost after iteration 2000: 0.535037\n",
      "Cost after iteration 2100: 0.491337\n",
      "Cost after iteration 2200: 0.490477\n",
      "Cost after iteration 2300: 0.488503\n",
      "Cost after iteration 2400: 0.464851\n",
      "Cost after iteration 2500: 0.470011\n",
      "Cost after iteration 2600: 0.457675\n",
      "Cost after iteration 2700: 0.453510\n",
      "Cost after iteration 2800: 0.481822\n",
      "Cost after iteration 2900: 0.438261\n"
     ]
    },
    {
     "data": {
      "image/png": "[encoded data removed]",
      "text/plain": [
       "<Figure size 432x288 with 1 Axes>"
      ]
     },
     "metadata": {
      "needs_background": "light"
     },
     "output_type": "display_data"
    }
   ],
   "source": [
    "learning_rate = 0.0075\n",
    "num_iterations = 3000\n",
    "layers_dims = [dev_x.shape[0], 20, 7, 5, 1]\n",
    "activation_functions = [\"relu\", \"relu\", \"relu\", \"sigmoid\"]\n",
    "\n",
    "parameters = L_layer_model(dev_x, dev_y, layers_dims, learning_rate, num_iterations, activation_functions, print_cost = True)"
   ]
  },
  {
   "cell_type": "code",
   "execution_count": 13,
   "metadata": {},
   "outputs": [
    {
     "name": "stdout",
     "output_type": "stream",
     "text": [
      "Accuracy: 0.8505000000000003\n"
     ]
    }
   ],
   "source": [
    "pred_dev = predict(dev_x, dev_y, parameters, activation_functions)"
   ]
  },
  {
   "cell_type": "markdown",
   "metadata": {},
   "source": [
    "### Experiment #4: Reducing number of layers"
   ]
  },
  {
   "cell_type": "markdown",
   "metadata": {},
   "source": [
    "The results from our previous experiment were satisfactory. We got a higher accuracy as we expected from the increase in iterations. Still, we wish to improve this further and, based on the hyper-parameters we chose, we thought it could be worth it to try reducing the model's complexity by reducing the number of layers by one.\n",
    "\n",
    "In this experiment we set the model to train with 2 hidden layers instead of 3, let's see if we manage to increase our performance."
   ]
  },
  {
   "cell_type": "markdown",
   "metadata": {},
   "source": [
    "#### Load Data"
   ]
  },
  {
   "cell_type": "code",
   "execution_count": 15,
   "metadata": {},
   "outputs": [
    {
     "name": "stderr",
     "output_type": "stream",
     "text": [
      "100%|█████████████████████████████████████████████████████████████████████████████| 1000/1000 [00:01<00:00, 631.31it/s]\n",
      "100%|█████████████████████████████████████████████████████████████████████████████| 1000/1000 [00:01<00:00, 602.37it/s]\n"
     ]
    },
    {
     "name": "stdout",
     "output_type": "stream",
     "text": [
      "dev_x's shape: (12288, 2000)\n"
     ]
    }
   ],
   "source": [
    "dev_x_orig, dev_y, classes = load_data('dev_set')\n",
    "dev_x_flatten = dev_x_orig.reshape(dev_x_orig.shape[0], -1).T\n",
    "dev_x = dev_x_flatten/255.\n",
    "print (\"dev_x's shape: \" + str(dev_x.shape))"
   ]
  },
  {
   "cell_type": "markdown",
   "metadata": {},
   "source": [
    "#### Set Hyper-Parameters and Train"
   ]
  },
  {
   "cell_type": "code",
   "execution_count": 16,
   "metadata": {
    "scrolled": false
   },
   "outputs": [
    {
     "name": "stdout",
     "output_type": "stream",
     "text": [
      "Cost after iteration 0: 0.698397\n",
      "Cost after iteration 100: 0.659119\n",
      "Cost after iteration 200: 0.629642\n",
      "Cost after iteration 300: 0.614167\n",
      "Cost after iteration 400: 0.602639\n",
      "Cost after iteration 500: 0.581636\n",
      "Cost after iteration 600: 0.576212\n",
      "Cost after iteration 700: 0.555166\n",
      "Cost after iteration 800: 0.546958\n",
      "Cost after iteration 900: 0.528920\n",
      "Cost after iteration 1000: 0.528858\n",
      "Cost after iteration 1100: 0.494184\n",
      "Cost after iteration 1200: 0.485272\n",
      "Cost after iteration 1300: 0.505922\n",
      "Cost after iteration 1400: 0.544349\n",
      "Cost after iteration 1500: 0.436052\n",
      "Cost after iteration 1600: 0.431095\n",
      "Cost after iteration 1700: 0.460362\n",
      "Cost after iteration 1800: 0.402685\n",
      "Cost after iteration 1900: 0.355026\n",
      "Cost after iteration 2000: 0.409918\n",
      "Cost after iteration 2100: 0.449580\n",
      "Cost after iteration 2200: 0.359436\n",
      "Cost after iteration 2300: 0.347217\n",
      "Cost after iteration 2400: 0.422532\n",
      "Cost after iteration 2500: 0.281570\n",
      "Cost after iteration 2600: 0.281888\n",
      "Cost after iteration 2700: 0.283168\n",
      "Cost after iteration 2800: 0.263198\n",
      "Cost after iteration 2900: 0.271194\n"
     ]
    },
    {
     "data": {
      "image/png": "[encoded data removed]",
      "text/plain": [
       "<Figure size 432x288 with 1 Axes>"
      ]
     },
     "metadata": {
      "needs_background": "light"
     },
     "output_type": "display_data"
    }
   ],
   "source": [
    "learning_rate = 0.0075\n",
    "num_iterations = 3000\n",
    "layers_dims = [dev_x.shape[0], 20, 7, 1]\n",
    "activation_functions = [\"relu\", \"relu\", \"sigmoid\"]\n",
    "\n",
    "parameters = L_layer_model(dev_x, dev_y, layers_dims, learning_rate, num_iterations, activation_functions, print_cost = True)"
   ]
  },
  {
   "cell_type": "code",
   "execution_count": 17,
   "metadata": {},
   "outputs": [
    {
     "name": "stdout",
     "output_type": "stream",
     "text": [
      "Accuracy: 0.8335000000000004\n"
     ]
    }
   ],
   "source": [
    "pred_dev = predict(dev_x, dev_y, parameters, activation_functions)"
   ]
  },
  {
   "cell_type": "markdown",
   "metadata": {},
   "source": [
    "### Experiment #5: Increasing number of neurons in hidden layers"
   ]
  },
  {
   "cell_type": "markdown",
   "metadata": {},
   "source": [
    "The results we got from experiment #4 got us lower cost as we hoped, but it got us lower accuracy than we expected. We think maybe adding more neurons but keeping only two hidden layers might improve the results."
   ]
  },
  {
   "cell_type": "markdown",
   "metadata": {},
   "source": [
    "#### Load Data"
   ]
  },
  {
   "cell_type": "code",
   "execution_count": 18,
   "metadata": {},
   "outputs": [
    {
     "name": "stderr",
     "output_type": "stream",
     "text": [
      "100%|█████████████████████████████████████████████████████████████████████████████| 1000/1000 [00:01<00:00, 609.20it/s]\n",
      "100%|█████████████████████████████████████████████████████████████████████████████| 1000/1000 [00:01<00:00, 574.70it/s]\n"
     ]
    },
    {
     "name": "stdout",
     "output_type": "stream",
     "text": [
      "dev_x's shape: (12288, 2000)\n"
     ]
    }
   ],
   "source": [
    "dev_x_orig, dev_y, classes = load_data('dev_set')\n",
    "dev_x_flatten = dev_x_orig.reshape(dev_x_orig.shape[0], -1).T\n",
    "dev_x = dev_x_flatten/255.\n",
    "print (\"dev_x's shape: \" + str(dev_x.shape))"
   ]
  },
  {
   "cell_type": "markdown",
   "metadata": {},
   "source": [
    "#### Set Hyper-Parameters and Train"
   ]
  },
  {
   "cell_type": "code",
   "execution_count": 19,
   "metadata": {},
   "outputs": [
    {
     "name": "stdout",
     "output_type": "stream",
     "text": [
      "Cost after iteration 0: 0.737564\n",
      "Cost after iteration 100: 0.668017\n",
      "Cost after iteration 200: 0.648788\n",
      "Cost after iteration 300: 0.638942\n",
      "Cost after iteration 400: 0.631682\n",
      "Cost after iteration 500: 0.617625\n",
      "Cost after iteration 600: 0.608499\n",
      "Cost after iteration 700: 0.601541\n",
      "Cost after iteration 800: 0.588883\n",
      "Cost after iteration 900: 0.580496\n",
      "Cost after iteration 1000: 0.571210\n",
      "Cost after iteration 1100: 0.562364\n",
      "Cost after iteration 1200: 0.553847\n",
      "Cost after iteration 1300: 0.544036\n",
      "Cost after iteration 1400: 0.535176\n",
      "Cost after iteration 1500: 0.527734\n",
      "Cost after iteration 1600: 0.518814\n",
      "Cost after iteration 1700: 0.506011\n",
      "Cost after iteration 1800: 0.494430\n",
      "Cost after iteration 1900: 0.490925\n",
      "Cost after iteration 2000: 0.478900\n",
      "Cost after iteration 2100: 0.468869\n",
      "Cost after iteration 2200: 0.474904\n",
      "Cost after iteration 2300: 0.441245\n",
      "Cost after iteration 2400: 0.429141\n",
      "Cost after iteration 2500: 0.395575\n",
      "Cost after iteration 2600: 0.721420\n",
      "Cost after iteration 2700: 0.312692\n",
      "Cost after iteration 2800: 0.310489\n",
      "Cost after iteration 2900: 0.425376\n"
     ]
    },
    {
     "data": {
      "image/png": "[encoded data removed]",
      "text/plain": [
       "<Figure size 432x288 with 1 Axes>"
      ]
     },
     "metadata": {
      "needs_background": "light"
     },
     "output_type": "display_data"
    }
   ],
   "source": [
    "learning_rate = 0.0075\n",
    "num_iterations = 3000\n",
    "layers_dims = [dev_x.shape[0], 25, 15, 1]\n",
    "activation_functions = [\"relu\", \"relu\", \"sigmoid\"]\n",
    "\n",
    "parameters = L_layer_model(dev_x, dev_y, layers_dims, learning_rate, num_iterations, activation_functions, print_cost = True)"
   ]
  },
  {
   "cell_type": "code",
   "execution_count": 20,
   "metadata": {},
   "outputs": [
    {
     "name": "stdout",
     "output_type": "stream",
     "text": [
      "Accuracy: 0.8905000000000003\n"
     ]
    }
   ],
   "source": [
    "pred_dev = predict(dev_x, dev_y, parameters, activation_functions)"
   ]
  },
  {
   "cell_type": "markdown",
   "metadata": {},
   "source": [
    "##  6 - Final Performance Estimation\n",
    "To evaluate the performance of our model as per the last experiment, we test the results with our test_set data."
   ]
  },
  {
   "cell_type": "code",
   "execution_count": null,
   "metadata": {},
   "outputs": [],
   "source": [
    "pred_train = predict(train_x, train_y, parameters, activation_functions)"
   ]
  },
  {
   "cell_type": "code",
   "execution_count": null,
   "metadata": {
    "scrolled": true
   },
   "outputs": [],
   "source": [
    "pred_test = predict(test_x, test_y, parameters, activation_functions)"
   ]
  },
  {
   "cell_type": "code",
   "execution_count": null,
   "metadata": {},
   "outputs": [],
   "source": [
    "print_mislabeled_images(classes, test_x, test_y, pred_test)"
   ]
  },
  {
   "cell_type": "markdown",
   "metadata": {},
   "source": [
    "## Final Results"
   ]
  },
  {
   "cell_type": "code",
   "execution_count": null,
   "metadata": {},
   "outputs": [],
   "source": []
  }
 ],
 "metadata": {
  "kernelspec": {
   "display_name": "Python 3",
   "language": "python",
   "name": "python3"
  },
  "language_info": {
   "codemirror_mode": {
    "name": "ipython",
    "version": 3
   },
   "file_extension": ".py",
   "mimetype": "text/x-python",
   "name": "python",
   "nbconvert_exporter": "python",
   "pygments_lexer": "ipython3",
   "version": "3.8.5"
  }
 },
 "nbformat": 4,
 "nbformat_minor": 4
}
